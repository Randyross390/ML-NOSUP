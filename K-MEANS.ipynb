{
 "cells": [
  {
   "cell_type": "code",
   "execution_count": 1,
   "id": "c7b42d2f",
   "metadata": {},
   "outputs": [],
   "source": [
    "import pandas as pd\n",
    "import matplotlib.pyplot as plt\n",
    "import seaborn as sns\n",
    "\n",
    "ubi = r\"C:\\Users\\randy\\EBAC.PRACTICAS\\Bases.docs\\Mall_Customers.csv\""
   ]
  },
  {
   "cell_type": "code",
   "execution_count": 2,
   "id": "7932acad",
   "metadata": {},
   "outputs": [],
   "source": [
    "from sklearn.cluster import KMeans"
   ]
  },
  {
   "cell_type": "code",
   "execution_count": 3,
   "id": "51376270",
   "metadata": {},
   "outputs": [
    {
     "data": {
      "application/vnd.microsoft.datawrangler.viewer.v0+json": {
       "columns": [
        {
         "name": "index",
         "rawType": "int64",
         "type": "integer"
        },
        {
         "name": "CustomerID",
         "rawType": "int64",
         "type": "integer"
        },
        {
         "name": "Genre",
         "rawType": "object",
         "type": "string"
        },
        {
         "name": "Age",
         "rawType": "int64",
         "type": "integer"
        },
        {
         "name": "Annual Income (k$)",
         "rawType": "int64",
         "type": "integer"
        },
        {
         "name": "Spending Score (1-100)",
         "rawType": "int64",
         "type": "integer"
        }
       ],
       "ref": "716d6e38-3f83-4716-abbc-4b867f4331d5",
       "rows": [
        [
         "0",
         "1",
         "Male",
         "19",
         "15",
         "39"
        ],
        [
         "1",
         "2",
         "Male",
         "21",
         "15",
         "81"
        ],
        [
         "2",
         "3",
         "Female",
         "20",
         "16",
         "6"
        ],
        [
         "3",
         "4",
         "Female",
         "23",
         "16",
         "77"
        ],
        [
         "4",
         "5",
         "Female",
         "31",
         "17",
         "40"
        ]
       ],
       "shape": {
        "columns": 5,
        "rows": 5
       }
      },
      "text/html": [
       "<div>\n",
       "<style scoped>\n",
       "    .dataframe tbody tr th:only-of-type {\n",
       "        vertical-align: middle;\n",
       "    }\n",
       "\n",
       "    .dataframe tbody tr th {\n",
       "        vertical-align: top;\n",
       "    }\n",
       "\n",
       "    .dataframe thead th {\n",
       "        text-align: right;\n",
       "    }\n",
       "</style>\n",
       "<table border=\"1\" class=\"dataframe\">\n",
       "  <thead>\n",
       "    <tr style=\"text-align: right;\">\n",
       "      <th></th>\n",
       "      <th>CustomerID</th>\n",
       "      <th>Genre</th>\n",
       "      <th>Age</th>\n",
       "      <th>Annual Income (k$)</th>\n",
       "      <th>Spending Score (1-100)</th>\n",
       "    </tr>\n",
       "  </thead>\n",
       "  <tbody>\n",
       "    <tr>\n",
       "      <th>0</th>\n",
       "      <td>1</td>\n",
       "      <td>Male</td>\n",
       "      <td>19</td>\n",
       "      <td>15</td>\n",
       "      <td>39</td>\n",
       "    </tr>\n",
       "    <tr>\n",
       "      <th>1</th>\n",
       "      <td>2</td>\n",
       "      <td>Male</td>\n",
       "      <td>21</td>\n",
       "      <td>15</td>\n",
       "      <td>81</td>\n",
       "    </tr>\n",
       "    <tr>\n",
       "      <th>2</th>\n",
       "      <td>3</td>\n",
       "      <td>Female</td>\n",
       "      <td>20</td>\n",
       "      <td>16</td>\n",
       "      <td>6</td>\n",
       "    </tr>\n",
       "    <tr>\n",
       "      <th>3</th>\n",
       "      <td>4</td>\n",
       "      <td>Female</td>\n",
       "      <td>23</td>\n",
       "      <td>16</td>\n",
       "      <td>77</td>\n",
       "    </tr>\n",
       "    <tr>\n",
       "      <th>4</th>\n",
       "      <td>5</td>\n",
       "      <td>Female</td>\n",
       "      <td>31</td>\n",
       "      <td>17</td>\n",
       "      <td>40</td>\n",
       "    </tr>\n",
       "  </tbody>\n",
       "</table>\n",
       "</div>"
      ],
      "text/plain": [
       "   CustomerID   Genre  Age  Annual Income (k$)  Spending Score (1-100)\n",
       "0           1    Male   19                  15                      39\n",
       "1           2    Male   21                  15                      81\n",
       "2           3  Female   20                  16                       6\n",
       "3           4  Female   23                  16                      77\n",
       "4           5  Female   31                  17                      40"
      ]
     },
     "execution_count": 3,
     "metadata": {},
     "output_type": "execute_result"
    }
   ],
   "source": [
    "data = pd.read_csv(ubi)\n",
    "data.head()"
   ]
  },
  {
   "cell_type": "code",
   "execution_count": 4,
   "id": "489a4215",
   "metadata": {},
   "outputs": [
    {
     "name": "stdout",
     "output_type": "stream",
     "text": [
      "[[ 15  39]\n",
      " [ 15  81]\n",
      " [ 16   6]\n",
      " [ 16  77]\n",
      " [ 17  40]\n",
      " [ 17  76]\n",
      " [ 18   6]\n",
      " [ 18  94]\n",
      " [ 19   3]\n",
      " [ 19  72]\n",
      " [ 19  14]\n",
      " [ 19  99]\n",
      " [ 20  15]\n",
      " [ 20  77]\n",
      " [ 20  13]\n",
      " [ 20  79]\n",
      " [ 21  35]\n",
      " [ 21  66]\n",
      " [ 23  29]\n",
      " [ 23  98]\n",
      " [ 24  35]\n",
      " [ 24  73]\n",
      " [ 25   5]\n",
      " [ 25  73]\n",
      " [ 28  14]\n",
      " [ 28  82]\n",
      " [ 28  32]\n",
      " [ 28  61]\n",
      " [ 29  31]\n",
      " [ 29  87]\n",
      " [ 30   4]\n",
      " [ 30  73]\n",
      " [ 33   4]\n",
      " [ 33  92]\n",
      " [ 33  14]\n",
      " [ 33  81]\n",
      " [ 34  17]\n",
      " [ 34  73]\n",
      " [ 37  26]\n",
      " [ 37  75]\n",
      " [ 38  35]\n",
      " [ 38  92]\n",
      " [ 39  36]\n",
      " [ 39  61]\n",
      " [ 39  28]\n",
      " [ 39  65]\n",
      " [ 40  55]\n",
      " [ 40  47]\n",
      " [ 40  42]\n",
      " [ 40  42]\n",
      " [ 42  52]\n",
      " [ 42  60]\n",
      " [ 43  54]\n",
      " [ 43  60]\n",
      " [ 43  45]\n",
      " [ 43  41]\n",
      " [ 44  50]\n",
      " [ 44  46]\n",
      " [ 46  51]\n",
      " [ 46  46]\n",
      " [ 46  56]\n",
      " [ 46  55]\n",
      " [ 47  52]\n",
      " [ 47  59]\n",
      " [ 48  51]\n",
      " [ 48  59]\n",
      " [ 48  50]\n",
      " [ 48  48]\n",
      " [ 48  59]\n",
      " [ 48  47]\n",
      " [ 49  55]\n",
      " [ 49  42]\n",
      " [ 50  49]\n",
      " [ 50  56]\n",
      " [ 54  47]\n",
      " [ 54  54]\n",
      " [ 54  53]\n",
      " [ 54  48]\n",
      " [ 54  52]\n",
      " [ 54  42]\n",
      " [ 54  51]\n",
      " [ 54  55]\n",
      " [ 54  41]\n",
      " [ 54  44]\n",
      " [ 54  57]\n",
      " [ 54  46]\n",
      " [ 57  58]\n",
      " [ 57  55]\n",
      " [ 58  60]\n",
      " [ 58  46]\n",
      " [ 59  55]\n",
      " [ 59  41]\n",
      " [ 60  49]\n",
      " [ 60  40]\n",
      " [ 60  42]\n",
      " [ 60  52]\n",
      " [ 60  47]\n",
      " [ 60  50]\n",
      " [ 61  42]\n",
      " [ 61  49]\n",
      " [ 62  41]\n",
      " [ 62  48]\n",
      " [ 62  59]\n",
      " [ 62  55]\n",
      " [ 62  56]\n",
      " [ 62  42]\n",
      " [ 63  50]\n",
      " [ 63  46]\n",
      " [ 63  43]\n",
      " [ 63  48]\n",
      " [ 63  52]\n",
      " [ 63  54]\n",
      " [ 64  42]\n",
      " [ 64  46]\n",
      " [ 65  48]\n",
      " [ 65  50]\n",
      " [ 65  43]\n",
      " [ 65  59]\n",
      " [ 67  43]\n",
      " [ 67  57]\n",
      " [ 67  56]\n",
      " [ 67  40]\n",
      " [ 69  58]\n",
      " [ 69  91]\n",
      " [ 70  29]\n",
      " [ 70  77]\n",
      " [ 71  35]\n",
      " [ 71  95]\n",
      " [ 71  11]\n",
      " [ 71  75]\n",
      " [ 71   9]\n",
      " [ 71  75]\n",
      " [ 72  34]\n",
      " [ 72  71]\n",
      " [ 73   5]\n",
      " [ 73  88]\n",
      " [ 73   7]\n",
      " [ 73  73]\n",
      " [ 74  10]\n",
      " [ 74  72]\n",
      " [ 75   5]\n",
      " [ 75  93]\n",
      " [ 76  40]\n",
      " [ 76  87]\n",
      " [ 77  12]\n",
      " [ 77  97]\n",
      " [ 77  36]\n",
      " [ 77  74]\n",
      " [ 78  22]\n",
      " [ 78  90]\n",
      " [ 78  17]\n",
      " [ 78  88]\n",
      " [ 78  20]\n",
      " [ 78  76]\n",
      " [ 78  16]\n",
      " [ 78  89]\n",
      " [ 78   1]\n",
      " [ 78  78]\n",
      " [ 78   1]\n",
      " [ 78  73]\n",
      " [ 79  35]\n",
      " [ 79  83]\n",
      " [ 81   5]\n",
      " [ 81  93]\n",
      " [ 85  26]\n",
      " [ 85  75]\n",
      " [ 86  20]\n",
      " [ 86  95]\n",
      " [ 87  27]\n",
      " [ 87  63]\n",
      " [ 87  13]\n",
      " [ 87  75]\n",
      " [ 87  10]\n",
      " [ 87  92]\n",
      " [ 88  13]\n",
      " [ 88  86]\n",
      " [ 88  15]\n",
      " [ 88  69]\n",
      " [ 93  14]\n",
      " [ 93  90]\n",
      " [ 97  32]\n",
      " [ 97  86]\n",
      " [ 98  15]\n",
      " [ 98  88]\n",
      " [ 99  39]\n",
      " [ 99  97]\n",
      " [101  24]\n",
      " [101  68]\n",
      " [103  17]\n",
      " [103  85]\n",
      " [103  23]\n",
      " [103  69]\n",
      " [113   8]\n",
      " [113  91]\n",
      " [120  16]\n",
      " [120  79]\n",
      " [126  28]\n",
      " [126  74]\n",
      " [137  18]\n",
      " [137  83]]\n"
     ]
    }
   ],
   "source": [
    "# Tomamos las dos ultimas columnas o variables del DF\n",
    "fields =  data.iloc[:,[3,4]].values\n",
    "print(fields)"
   ]
  },
  {
   "cell_type": "code",
   "execution_count": 5,
   "id": "6c7c4dd9",
   "metadata": {},
   "outputs": [],
   "source": [
    "import warnings\n",
    "warnings.filterwarnings(\"ignore\")"
   ]
  },
  {
   "cell_type": "code",
   "execution_count": 6,
   "id": "96fb24a4",
   "metadata": {},
   "outputs": [],
   "source": [
    "wcss = [] # Se encargara en calcular la inercia, o la distancia cuadratica de los centerides\n",
    "\n",
    "for index in range(1,11): # Es decir vamos aprobar hasta 11 clusters para observar que es lo que mas nos combiene manejar\n",
    "    kmeans = KMeans(n_clusters = index, init = \"k-means++\", random_state = 2) # Aplicacion de ARGTM, y damos el primer parametro N_. Y init para el iniciador, y una semilla Random.state para generar los valores de formaleatorizada.\n",
    "    kmeans.fit(fields) # toma nuestra lista de valores para indetificar a que especifico grupo va a pertenecer cada grupo.\n",
    "\n",
    "    wcss.append(kmeans.inertia_) # Esto guarda los errores que se cometen en cada grupo y esa distacnia que hya de manera cuadratica de cada centriode.\n"
   ]
  },
  {
   "cell_type": "code",
   "execution_count": 7,
   "id": "7f8178cf",
   "metadata": {},
   "outputs": [
    {
     "data": {
      "image/png": "[encoded data removed]",
      "text/plain": [
       "<Figure size 640x480 with 1 Axes>"
      ]
     },
     "metadata": {},
     "output_type": "display_data"
    }
   ],
   "source": [
    "# Graficacion del \"Codo de JAMBU\"\n",
    "\n",
    "sns.set()\n",
    "plt.plot(range(1,11), wcss)\n",
    "plt.title(\"K-Means Clustering\")\n",
    "plt.xlabel(\"Numero de clusters\")\n",
    "plt.ylabel(\"WCSS\") # WEIGHTED CLUSTERS SUM OF SQUATRES\n",
    "plt.show()"
   ]
  },
  {
   "cell_type": "markdown",
   "id": "fd252d9b",
   "metadata": {},
   "source": [
    "# NUESTRO GRAFICO DE CODO DE JAMBU INDICA QUE TENEMOS 5 CLUSTERS"
   ]
  },
  {
   "cell_type": "code",
   "execution_count": 8,
   "id": "a157f824",
   "metadata": {},
   "outputs": [
    {
     "name": "stdout",
     "output_type": "stream",
     "text": [
      "[4 2 4 2 4 2 4 2 4 2 4 2 4 2 4 2 4 2 4 2 4 2 4 2 4 2 4 2 4 2 4 2 4 2 4 2 4\n",
      " 2 4 2 4 2 4 0 4 2 0 0 0 0 0 0 0 0 0 0 0 0 0 0 0 0 0 0 0 0 0 0 0 0 0 0 0 0\n",
      " 0 0 0 0 0 0 0 0 0 0 0 0 0 0 0 0 0 0 0 0 0 0 0 0 0 0 0 0 0 0 0 0 0 0 0 0 0\n",
      " 0 0 0 0 0 0 0 0 0 0 0 0 1 3 1 0 1 3 1 3 1 0 1 3 1 3 1 3 1 3 1 0 1 3 1 3 1\n",
      " 3 1 3 1 3 1 3 1 3 1 3 1 3 1 3 1 3 1 3 1 3 1 3 1 3 1 3 1 3 1 3 1 3 1 3 1 3\n",
      " 1 3 1 3 1 3 1 3 1 3 1 3 1 3 1]\n"
     ]
    }
   ],
   "source": [
    "kmeans = KMeans(n_clusters = 5, init = \"k-means++\", random_state = 42) # llamamos a KMEANS con el numero especifico de 5 clusters\n",
    "# inicializamos con INIT y el algoritmos \"K-Means++\" \n",
    "# Y el numero aleatorio de semilla RANDOM_STATE = 42\n",
    "\n",
    "\n",
    "# PREDICCION de cada grupo que toca o de donde debe de tocar este algoritmo\n",
    "cluster_values = kmeans.fit_predict(fields)\n",
    "print(cluster_values)"
   ]
  },
  {
   "cell_type": "code",
   "execution_count": 9,
   "id": "81598d05",
   "metadata": {},
   "outputs": [
    {
     "data": {
      "text/plain": [
       "array([4, 2, 4, 2, 4, 2, 4, 2, 4, 2, 4, 2, 4, 2, 4, 2, 4, 2, 4, 2, 4, 2,\n",
       "       4, 2, 4, 2, 4, 2, 4, 2, 4, 2, 4, 2, 4, 2, 4, 2, 4, 2, 4, 2, 4, 0,\n",
       "       4, 2, 0, 0, 0, 0, 0, 0, 0, 0, 0, 0, 0, 0, 0, 0, 0, 0, 0, 0, 0, 0,\n",
       "       0, 0, 0, 0, 0, 0, 0, 0, 0, 0, 0, 0, 0, 0, 0, 0, 0, 0, 0, 0, 0, 0,\n",
       "       0, 0, 0, 0, 0, 0, 0, 0, 0, 0, 0, 0, 0, 0, 0, 0, 0, 0, 0, 0, 0, 0,\n",
       "       0, 0, 0, 0, 0, 0, 0, 0, 0, 0, 0, 0, 0, 1, 3, 1, 0, 1, 3, 1, 3, 1,\n",
       "       0, 1, 3, 1, 3, 1, 3, 1, 3, 1, 0, 1, 3, 1, 3, 1, 3, 1, 3, 1, 3, 1,\n",
       "       3, 1, 3, 1, 3, 1, 3, 1, 3, 1, 3, 1, 3, 1, 3, 1, 3, 1, 3, 1, 3, 1,\n",
       "       3, 1, 3, 1, 3, 1, 3, 1, 3, 1, 3, 1, 3, 1, 3, 1, 3, 1, 3, 1, 3, 1,\n",
       "       3, 1])"
      ]
     },
     "execution_count": 9,
     "metadata": {},
     "output_type": "execute_result"
    }
   ],
   "source": [
    "cluster_values"
   ]
  },
  {
   "cell_type": "markdown",
   "id": "59cbce18",
   "metadata": {},
   "source": [
    "# Como se interpreta esto ¿?"
   ]
  },
  {
   "cell_type": "code",
   "execution_count": 10,
   "id": "5aa75674",
   "metadata": {},
   "outputs": [],
   "source": [
    "# Significa que el primer resultado que en este caso es el 4 seria el primero renglon de la lista del DF\n",
    "# O el primero renglon del DF donde en este caso lo clasifico en el 4\n",
    "# y en el segundo renglon lo clasifico con el cluster 2"
   ]
  },
  {
   "cell_type": "code",
   "execution_count": 11,
   "id": "1a034ba0",
   "metadata": {},
   "outputs": [
    {
     "data": {
      "text/plain": [
       "<matplotlib.legend.Legend at 0x29999612180>"
      ]
     },
     "execution_count": 11,
     "metadata": {},
     "output_type": "execute_result"
    },
    {
     "data": {
      "image/png": "[encoded data removed]",
      "text/plain": [
       "<Figure size 1000x1000 with 1 Axes>"
      ]
     },
     "metadata": {},
     "output_type": "display_data"
    }
   ],
   "source": [
    "plt.figure(figsize= (10,10)) # Creamos una imagen\n",
    "plt.scatter(fields[cluster_values==0,0], fields[cluster_values==0,1], c=\"blue\", label = \"Cluster 1\") # Graficamos todos los cluster del valor 0 y los puntos del primer cluster de color azul\n",
    "plt.scatter(fields[cluster_values==1,0], fields[cluster_values==1,1], c=\"orange\", label = \"Cluster 2\") # Graficamos todos los cluster del valor 1 y los puntos del primer cluster de color azul\n",
    "plt.scatter(fields[cluster_values==2,0], fields[cluster_values==2,1], c=\"green\", label = \"Cluster 3\") # Graficamos todos los cluster del valor 2 y los puntos del primer cluster de color verde\n",
    "plt.scatter(fields[cluster_values==3,0], fields[cluster_values==3,1], c=\"yellow\", label = \"Cluster 4\") # Graficamos todos los cluster del valor 3 y los puntos del primer cluster de color amarillo\n",
    "plt.scatter(fields[cluster_values==4,0], fields[cluster_values==4,1], c=\"red\", label = \"Cluster 5\") # Graficamos todos los cluster del valor 4 y los puntos del primer cluster de color red\n",
    "\n",
    "plt.scatter(kmeans.cluster_centers_[:,0],kmeans.cluster_centers_[:,1], c = \"black\", label=\"Centroides\") # Mostramos de negro todos los Centroides de los Clusters\n",
    "plt.title(\"Grupos de clientes\")\n",
    "plt.xlabel = \"Annual income\"\n",
    "plt.ylabel = \"Spending Score\"\n",
    "plt.legend()"
   ]
  },
  {
   "cell_type": "markdown",
   "id": "a37f5fa5",
   "metadata": {},
   "source": [
    "# Criterio de Silueta (\"Silhouette\")\n",
    "\n",
    "### Funciona dando un indicador lo mas cercano a 1"
   ]
  },
  {
   "cell_type": "code",
   "execution_count": 12,
   "id": "3774c0d6",
   "metadata": {},
   "outputs": [],
   "source": [
    "from sklearn import datasets\n",
    "from sklearn.metrics import silhouette_score"
   ]
  },
  {
   "cell_type": "code",
   "execution_count": 13,
   "id": "0209c8d4",
   "metadata": {},
   "outputs": [
    {
     "name": "stdout",
     "output_type": "stream",
     "text": [
      "Score Silhouette; k =  2 : 0.2968969162503008\n",
      "Score Silhouette; k =  3 : 0.46761358158775435\n",
      "Score Silhouette; k =  4 : 0.4931963109249047\n",
      "Score Silhouette; k =  5 : 0.553931997444648\n",
      "Score Silhouette; k =  6 : 0.53976103063432\n",
      "Score Silhouette; k =  7 : 0.5288104473798049\n",
      "Score Silhouette; k =  8 : 0.45481197931195283\n",
      "Score Silhouette; k =  9 : 0.4561091950997367\n",
      "Score Silhouette; k =  10 : 0.4410568674364981\n",
      "Score Silhouette; k =  11 : 0.4489710248005492\n"
     ]
    }
   ],
   "source": [
    "X = data.iloc[:, [3,4]].to_numpy() # Toamos nuestro data con el comando iloc sobre toodos los renglones y le indicamos los indices de la columa 3 y 4 que se refieren a las ultima columnas y las comvertimos a un objeto NUMPY\n",
    "for j in range(2,12):  # Por cada j en el rango de 2 hasta 12 \"MINIMO, CLUSTERS DE 2\" \n",
    "    kmeans = KMeans(n_clusters = j, random_state= 42) # creamos una variable que guarde en numero de clusters y cargamos el algoritmo con el numero de clsuters que se va a mover con una semilla de 42 para que nos de los mismos resultados\n",
    "    kmeans.fit_predict(X) # Hacemos pa prediccion cargando .predict. para ese grupo de X para nuestra lista de valores\n",
    "    # Calculamos el Score de Silueta \n",
    "    score = silhouette_score(X, kmeans.labels_, metric=\"euclidean\") # variable, llamamos a SILHUOETTE_SCORE le ponemos X donde vaya tomando las etiquetas de KMEANS. labels y le ponemos como metrica que sea las distancias EUCLIDIANAS\n",
    "    print(\"Score Silhouette;\" , \"k = \", j, \":\", score) # Que ponga el score "
   ]
  },
  {
   "cell_type": "markdown",
   "id": "4ee27658",
   "metadata": {},
   "source": [
    "# Que pasa si metemos mas de dos columnas ¿?\n",
    "\n",
    "### Lo que vamos a hacer ahora es todo lo que hicimos pero con tres columnas\n",
    "### Donde aplicaremos PCA donde las tres columnas las remplazaremos por 2 Columnas que las representen\n",
    "### y sobre esas columnas cargaremos el mismo algoritmo que acabamos de crear"
   ]
  },
  {
   "cell_type": "code",
   "execution_count": 14,
   "id": "974ba33d",
   "metadata": {},
   "outputs": [
    {
     "name": "stdout",
     "output_type": "stream",
     "text": [
      "[[ 19  15  39]\n",
      " [ 21  15  81]\n",
      " [ 20  16   6]\n",
      " [ 23  16  77]\n",
      " [ 31  17  40]\n",
      " [ 22  17  76]\n",
      " [ 35  18   6]\n",
      " [ 23  18  94]\n",
      " [ 64  19   3]\n",
      " [ 30  19  72]\n",
      " [ 67  19  14]\n",
      " [ 35  19  99]\n",
      " [ 58  20  15]\n",
      " [ 24  20  77]\n",
      " [ 37  20  13]\n",
      " [ 22  20  79]\n",
      " [ 35  21  35]\n",
      " [ 20  21  66]\n",
      " [ 52  23  29]\n",
      " [ 35  23  98]\n",
      " [ 35  24  35]\n",
      " [ 25  24  73]\n",
      " [ 46  25   5]\n",
      " [ 31  25  73]\n",
      " [ 54  28  14]\n",
      " [ 29  28  82]\n",
      " [ 45  28  32]\n",
      " [ 35  28  61]\n",
      " [ 40  29  31]\n",
      " [ 23  29  87]\n",
      " [ 60  30   4]\n",
      " [ 21  30  73]\n",
      " [ 53  33   4]\n",
      " [ 18  33  92]\n",
      " [ 49  33  14]\n",
      " [ 21  33  81]\n",
      " [ 42  34  17]\n",
      " [ 30  34  73]\n",
      " [ 36  37  26]\n",
      " [ 20  37  75]\n",
      " [ 65  38  35]\n",
      " [ 24  38  92]\n",
      " [ 48  39  36]\n",
      " [ 31  39  61]\n",
      " [ 49  39  28]\n",
      " [ 24  39  65]\n",
      " [ 50  40  55]\n",
      " [ 27  40  47]\n",
      " [ 29  40  42]\n",
      " [ 31  40  42]\n",
      " [ 49  42  52]\n",
      " [ 33  42  60]\n",
      " [ 31  43  54]\n",
      " [ 59  43  60]\n",
      " [ 50  43  45]\n",
      " [ 47  43  41]\n",
      " [ 51  44  50]\n",
      " [ 69  44  46]\n",
      " [ 27  46  51]\n",
      " [ 53  46  46]\n",
      " [ 70  46  56]\n",
      " [ 19  46  55]\n",
      " [ 67  47  52]\n",
      " [ 54  47  59]\n",
      " [ 63  48  51]\n",
      " [ 18  48  59]\n",
      " [ 43  48  50]\n",
      " [ 68  48  48]\n",
      " [ 19  48  59]\n",
      " [ 32  48  47]\n",
      " [ 70  49  55]\n",
      " [ 47  49  42]\n",
      " [ 60  50  49]\n",
      " [ 60  50  56]\n",
      " [ 59  54  47]\n",
      " [ 26  54  54]\n",
      " [ 45  54  53]\n",
      " [ 40  54  48]\n",
      " [ 23  54  52]\n",
      " [ 49  54  42]\n",
      " [ 57  54  51]\n",
      " [ 38  54  55]\n",
      " [ 67  54  41]\n",
      " [ 46  54  44]\n",
      " [ 21  54  57]\n",
      " [ 48  54  46]\n",
      " [ 55  57  58]\n",
      " [ 22  57  55]\n",
      " [ 34  58  60]\n",
      " [ 50  58  46]\n",
      " [ 68  59  55]\n",
      " [ 18  59  41]\n",
      " [ 48  60  49]\n",
      " [ 40  60  40]\n",
      " [ 32  60  42]\n",
      " [ 24  60  52]\n",
      " [ 47  60  47]\n",
      " [ 27  60  50]\n",
      " [ 48  61  42]\n",
      " [ 20  61  49]\n",
      " [ 23  62  41]\n",
      " [ 49  62  48]\n",
      " [ 67  62  59]\n",
      " [ 26  62  55]\n",
      " [ 49  62  56]\n",
      " [ 21  62  42]\n",
      " [ 66  63  50]\n",
      " [ 54  63  46]\n",
      " [ 68  63  43]\n",
      " [ 66  63  48]\n",
      " [ 65  63  52]\n",
      " [ 19  63  54]\n",
      " [ 38  64  42]\n",
      " [ 19  64  46]\n",
      " [ 18  65  48]\n",
      " [ 19  65  50]\n",
      " [ 63  65  43]\n",
      " [ 49  65  59]\n",
      " [ 51  67  43]\n",
      " [ 50  67  57]\n",
      " [ 27  67  56]\n",
      " [ 38  67  40]\n",
      " [ 40  69  58]\n",
      " [ 39  69  91]\n",
      " [ 23  70  29]\n",
      " [ 31  70  77]\n",
      " [ 43  71  35]\n",
      " [ 40  71  95]\n",
      " [ 59  71  11]\n",
      " [ 38  71  75]\n",
      " [ 47  71   9]\n",
      " [ 39  71  75]\n",
      " [ 25  72  34]\n",
      " [ 31  72  71]\n",
      " [ 20  73   5]\n",
      " [ 29  73  88]\n",
      " [ 44  73   7]\n",
      " [ 32  73  73]\n",
      " [ 19  74  10]\n",
      " [ 35  74  72]\n",
      " [ 57  75   5]\n",
      " [ 32  75  93]\n",
      " [ 28  76  40]\n",
      " [ 32  76  87]\n",
      " [ 25  77  12]\n",
      " [ 28  77  97]\n",
      " [ 48  77  36]\n",
      " [ 32  77  74]\n",
      " [ 34  78  22]\n",
      " [ 34  78  90]\n",
      " [ 43  78  17]\n",
      " [ 39  78  88]\n",
      " [ 44  78  20]\n",
      " [ 38  78  76]\n",
      " [ 47  78  16]\n",
      " [ 27  78  89]\n",
      " [ 37  78   1]\n",
      " [ 30  78  78]\n",
      " [ 34  78   1]\n",
      " [ 30  78  73]\n",
      " [ 56  79  35]\n",
      " [ 29  79  83]\n",
      " [ 19  81   5]\n",
      " [ 31  81  93]\n",
      " [ 50  85  26]\n",
      " [ 36  85  75]\n",
      " [ 42  86  20]\n",
      " [ 33  86  95]\n",
      " [ 36  87  27]\n",
      " [ 32  87  63]\n",
      " [ 40  87  13]\n",
      " [ 28  87  75]\n",
      " [ 36  87  10]\n",
      " [ 36  87  92]\n",
      " [ 52  88  13]\n",
      " [ 30  88  86]\n",
      " [ 58  88  15]\n",
      " [ 27  88  69]\n",
      " [ 59  93  14]\n",
      " [ 35  93  90]\n",
      " [ 37  97  32]\n",
      " [ 32  97  86]\n",
      " [ 46  98  15]\n",
      " [ 29  98  88]\n",
      " [ 41  99  39]\n",
      " [ 30  99  97]\n",
      " [ 54 101  24]\n",
      " [ 28 101  68]\n",
      " [ 41 103  17]\n",
      " [ 36 103  85]\n",
      " [ 34 103  23]\n",
      " [ 32 103  69]\n",
      " [ 33 113   8]\n",
      " [ 38 113  91]\n",
      " [ 47 120  16]\n",
      " [ 35 120  79]\n",
      " [ 45 126  28]\n",
      " [ 32 126  74]\n",
      " [ 32 137  18]\n",
      " [ 30 137  83]]\n"
     ]
    }
   ],
   "source": [
    "# Algoritmo KMEANS aplicado a 3 columnas de nuestra base original\n",
    "# Bajo una transformacion de PCA\n",
    "\n",
    "fields2 = data.iloc[:,[2,3,4]].values # Variable, tomamos nuestro data con el comando .iloc donde tomamos las columas 2,3,4 y solo sus valores con el comando .values\n",
    "print(fields2)"
   ]
  },
  {
   "cell_type": "markdown",
   "id": "5f75ddf8",
   "metadata": {},
   "source": [
    "# PCA\n",
    "### para reducir las 3 columnas a 2 columnas"
   ]
  },
  {
   "cell_type": "code",
   "execution_count": 15,
   "id": "988c48f5",
   "metadata": {},
   "outputs": [
    {
     "data": {
      "text/plain": [
       "array([[-3.18705078e+01, -3.30014253e+01],\n",
       "       [ 7.63396908e-01, -5.68438653e+01],\n",
       "       [-5.74087256e+01, -1.31229362e+01],\n",
       "       [-2.16989648e+00, -5.34779049e+01],\n",
       "       [-3.21749197e+01, -3.03870050e+01],\n",
       "       [-2.17827777e+00, -5.22265808e+01],\n",
       "       [-5.90660565e+01, -9.54170669e+00],\n",
       "       [ 1.23693261e+01, -6.16176843e+01],\n",
       "       [-6.63156568e+01, -3.21359934e+00],\n",
       "       [-5.65677534e+00, -4.72664534e+01],\n",
       "       [-5.82366179e+01, -9.13375312e+00],\n",
       "       [ 1.46202592e+01, -6.21072940e+01],\n",
       "       [-5.51612126e+01, -1.00779778e+01],\n",
       "       [-4.30660584e-03, -5.01134367e+01],\n",
       "       [-5.27647474e+01, -1.16804199e+01],\n",
       "       [ 1.94563480e+00, -5.15231943e+01],\n",
       "       [-3.45062349e+01, -2.37600734e+01],\n",
       "       [-7.30573032e+00, -4.35158724e+01],\n",
       "       [-4.12574933e+01, -1.64734320e+01],\n",
       "       [ 1.61888268e+01, -5.82998775e+01],\n",
       "       [-3.27403118e+01, -2.13349462e+01],\n",
       "       [-9.82702739e-01, -4.44533143e+01],\n",
       "       [-5.78102821e+01, -1.86854579e+00],\n",
       "       [-1.52790692e+00, -4.28591474e+01],\n",
       "       [-5.04821841e+01, -3.56091922e+00],\n",
       "       [ 7.68993306e+00, -4.58611728e+01],\n",
       "       [-3.46334793e+01, -1.50700505e+01],\n",
       "       [-9.94983869e+00, -3.30231964e+01],\n",
       "       [-3.38859638e+01, -1.43425872e+01],\n",
       "       [ 1.33424018e+01, -4.87081562e+01],\n",
       "       [-5.82987123e+01,  4.58075927e+00],\n",
       "       [ 3.30504018e+00, -4.01269208e+01],\n",
       "       [-5.52099698e+01,  6.08913003e+00],\n",
       "       [ 2.05718194e+01, -4.89990472e+01],\n",
       "       [-4.65941080e+01, -1.73866592e-01],\n",
       "       [ 1.13589353e+01, -4.22931022e+01],\n",
       "       [-4.23246581e+01, -2.00398803e+00],\n",
       "       [ 3.95883645e+00, -3.57147310e+01],\n",
       "       [-3.23509213e+01, -5.52987430e+00],\n",
       "       [ 9.18649452e+00, -3.57470830e+01],\n",
       "       [-3.01685636e+01, -6.08872992e+00],\n",
       "       [ 2.23811793e+01, -4.41713774e+01],\n",
       "       [-2.55813646e+01, -8.08067622e+00],\n",
       "       [-2.71889068e+00, -2.46549242e+01],\n",
       "       [-3.20583109e+01, -3.35840237e+00],\n",
       "       [ 1.74791473e+00, -2.78673350e+01],\n",
       "       [-1.04367385e+01, -1.79147281e+01],\n",
       "       [-1.23783039e+01, -1.63356191e+01],\n",
       "       [-1.66862348e+01, -1.32041208e+01],\n",
       "       [-1.70641832e+01, -1.29421904e+01],\n",
       "       [-1.14284717e+01, -1.47072011e+01],\n",
       "       [-2.11691252e+00, -2.13939530e+01],\n",
       "       [-5.86630212e+00, -1.74040262e+01],\n",
       "       [-6.44160070e+00, -1.71804820e+01],\n",
       "       [-1.65307804e+01, -9.75046514e+00],\n",
       "       [-1.91078439e+01, -7.84770642e+00],\n",
       "       [-1.22011311e+01, -1.16806921e+01],\n",
       "       [-1.87466527e+01, -7.02766414e+00],\n",
       "       [-5.70247177e+00, -1.37810191e+01],\n",
       "       [-1.45457835e+01, -7.50635593e+00],\n",
       "       [-9.89837985e+00, -1.10190833e+01],\n",
       "       [-1.04669216e+00, -1.71243951e+01],\n",
       "       [-1.18868022e+01, -8.30794885e+00],\n",
       "       [-3.92816213e+00, -1.40278916e+01],\n",
       "       [-1.13282609e+01, -7.44952035e+00],\n",
       "       [ 3.46355009e+00, -1.79342631e+01],\n",
       "       [-8.33477343e+00, -9.49491083e+00],\n",
       "       [-1.46311214e+01, -5.07295359e+00],\n",
       "       [ 3.27457589e+00, -1.78032979e+01],\n",
       "       [-8.61404674e+00, -9.21378732e+00],\n",
       "       [-8.91845330e+00, -8.02004253e+00],\n",
       "       [-1.47900012e+01, -3.57136564e+00],\n",
       "       [-1.11560493e+01, -5.07783734e+00],\n",
       "       [-5.65407378e+00, -9.09523241e+00],\n",
       "       [-1.01845040e+01, -8.27472473e-01],\n",
       "       [ 1.55362009e+00, -9.16671924e+00],\n",
       "       [-2.82288621e+00, -6.10446680e+00],\n",
       "       [-5.80799772e+00, -3.88972491e+00],\n",
       "       [ 5.48549687e-01, -8.41178768e+00],\n",
       "       [-1.22247445e+01,  7.32443405e-01],\n",
       "       [-6.66256961e+00, -3.38505720e+00],\n",
       "       [ 7.19261956e-02, -8.16905039e+00],\n",
       "       [-1.64122766e+01,  3.66373064e+00],\n",
       "       [-1.00858289e+01, -8.08279367e-01],\n",
       "       [ 4.85648060e+00, -1.15432860e+01],\n",
       "       [-8.89178433e+00, -1.69417612e+00],\n",
       "       [ 9.83277363e-01, -5.23925550e+00],\n",
       "       [ 4.86143645e+00, -7.83936645e+00],\n",
       "       [ 7.11236959e+00, -8.32897619e+00],\n",
       "       [-6.91516865e+00,  1.80125719e+00],\n",
       "       [-2.65409471e+00, -1.98215661e-01],\n",
       "       [-4.20933575e+00,  1.28831433e+00],\n",
       "       [-3.00194870e+00,  1.43433750e+00],\n",
       "       [-8.56412363e+00,  5.55183811e+00],\n",
       "       [-5.48033702e+00,  3.35628932e+00],\n",
       "       [ 3.89142160e+00, -3.43056812e+00],\n",
       "       [-4.38496751e+00,  2.45119946e+00],\n",
       "       [ 1.75250600e+00, -1.88984535e+00],\n",
       "       [-7.91528320e+00,  6.26010829e+00],\n",
       "       [ 2.87796991e+00, -1.42431246e+00],\n",
       "       [-3.38828369e+00,  4.36826753e+00],\n",
       "       [-2.79963737e+00,  3.75596774e+00],\n",
       "       [ 2.44478856e+00, -1.99708008e-01],\n",
       "       [ 7.04874475e+00, -3.27362700e+00],\n",
       "       [ 3.48833465e+00, -8.35340915e-01],\n",
       "       [-2.22433878e+00,  3.53242354e+00],\n",
       "       [-3.85156474e+00,  5.64292475e+00],\n",
       "       [-4.72786035e+00,  6.36699664e+00],\n",
       "       [-9.73148866e+00,  9.92225023e+00],\n",
       "       [-5.42355775e+00,  6.79075191e+00],\n",
       "       [-2.09059754e+00,  4.36413238e+00],\n",
       "       [ 8.17420867e+00, -2.80809411e+00],\n",
       "       [-4.25961814e+00,  7.37558345e+00],\n",
       "       [ 2.47487766e+00,  2.59159027e+00],\n",
       "       [ 4.82448589e+00,  2.12117363e+00],\n",
       "       [ 6.20750469e+00,  1.10431167e+00],\n",
       "       [-7.60933562e+00,  1.08841757e+01],\n",
       "       [ 7.61224722e+00, -1.31954477e-01],\n",
       "       [-4.16436318e+00,  1.09293447e+01],\n",
       "       [ 7.02856205e+00,  2.76358934e+00],\n",
       "       [ 1.05889721e+01,  3.25303258e-01],\n",
       "       [-4.06568809e+00,  1.09485378e+01],\n",
       "       [ 1.08815826e+01,  2.49677519e+00],\n",
       "       [ 3.70084414e+01, -1.65733382e+01],\n",
       "       [-8.11111356e+00,  1.77222363e+01],\n",
       "       [ 2.81049250e+01, -8.77789396e+00],\n",
       "       [-6.58597753e+00,  1.77064346e+01],\n",
       "       [ 4.11407352e+01, -1.71212759e+01],\n",
       "       [-2.84734808e+01,  3.35758038e+01],\n",
       "       [ 2.57987536e+01, -5.90493465e+00],\n",
       "       [-2.77777834e+01,  3.31520486e+01],\n",
       "       [ 2.56097794e+01, -5.77396944e+00],\n",
       "       [-3.38179741e+00,  1.67313503e+01],\n",
       "       [ 2.45662280e+01, -3.71766101e+00],\n",
       "       [-2.46421840e+01,  3.35283939e+01],\n",
       "       [ 3.88947579e+01, -1.29277466e+01],\n",
       "       [-2.76055718e+01,  3.55237316e+01],\n",
       "       [ 2.65378878e+01, -3.92614725e+00],\n",
       "       [-1.99345862e+01,  3.13362365e+01],\n",
       "       [ 2.57736097e+01, -2.15096233e+00],\n",
       "       [-3.04569473e+01,  3.99908578e+01],\n",
       "       [ 4.34350999e+01, -1.37876674e+01],\n",
       "       [ 3.12182308e+00,  1.69142673e+01],\n",
       "       [ 3.93077619e+01, -9.53581020e+00],\n",
       "       [-1.77305154e+01,  3.33993277e+01],\n",
       "       [ 4.85122647e+01, -1.49904311e+01],\n",
       "       [-3.21300591e+00,  2.26376014e+01],\n",
       "       [ 2.96784484e+01, -1.26655792e+00],\n",
       "       [-1.09826771e+01,  2.96472544e+01],\n",
       "       [ 4.24650851e+01, -9.37886909e+00],\n",
       "       [-1.66134274e+01,  3.36955092e+01],\n",
       "       [ 3.99482210e+01, -7.57621591e+00],\n",
       "       [-1.44444121e+01,  3.21047336e+01],\n",
       "       [ 3.07052372e+01, -8.20218136e-01],\n",
       "       [-1.81553207e+01,  3.47932836e+01],\n",
       "       [ 4.30019079e+01, -9.72171193e+00],\n",
       "       [-2.80555263e+01,  4.20923353e+01],\n",
       "       [ 3.37890238e+01, -3.01576692e+00],\n",
       "       [-2.74886037e+01,  4.16994397e+01],\n",
       "       [ 2.98590413e+01, -1.46199015e-01],\n",
       "       [-4.33351397e+00,  2.58759881e+01],\n",
       "       [ 3.84966216e+01, -5.20792430e+00],\n",
       "       [-1.97440816e+01,  3.98644345e+01],\n",
       "       [ 4.71559202e+01, -9.06837826e+00],\n",
       "       [-6.74179118e+00,  3.51056735e+01],\n",
       "       [ 3.44176762e+01,  5.15039513e+00],\n",
       "       [-9.35733558e+00,  3.83098091e+01],\n",
       "       [ 5.12931699e+01, -5.91239638e+00],\n",
       "       [-2.13287384e+00,  3.43149985e+01],\n",
       "       [ 2.69188971e+01,  1.31302488e+01],\n",
       "       [-1.38927217e+01,  4.28736494e+01],\n",
       "       [ 3.71067519e+01,  5.71942496e+00],\n",
       "       [-1.54948144e+01,  4.40715294e+01],\n",
       "       [ 4.89568988e+01, -2.98938430e+00],\n",
       "       [-1.55717711e+01,  4.52536076e+01],\n",
       "       [ 4.59634060e+01,  4.76681701e-01],\n",
       "       [-1.51336232e+01,  4.48915717e+01],\n",
       "       [ 3.31683881e+01,  9.84031698e+00],\n",
       "       [-1.31653889e+01,  4.96383291e+01],\n",
       "       [ 5.11057261e+01,  2.87773203e+00],\n",
       "       [ 7.49454467e+00,  3.96601531e+01],\n",
       "       [ 5.08832268e+01,  8.01399365e+00],\n",
       "       [-6.97952266e+00,  5.14037465e+01],\n",
       "       [ 5.36107834e+01,  7.28164661e+00],\n",
       "       [ 1.34179054e+01,  3.77833703e+01],\n",
       "       [ 6.10844188e+01,  3.05576531e+00],\n",
       "       [ 3.48575325e-01,  4.97113731e+01],\n",
       "       [ 3.98457506e+01,  2.10540802e+01],\n",
       "       [-1.51945356e+00,  5.36429720e+01],\n",
       "       [ 5.28731796e+01,  1.39620224e+01],\n",
       "       [ 4.51934486e+00,  4.92827341e+01],\n",
       "       [ 4.10531324e+01,  2.26207789e+01],\n",
       "       [-1.19521829e+00,  6.58442298e+01],\n",
       "       [ 6.30976204e+01,  1.88642286e+01],\n",
       "       [ 6.56760207e+00,  6.87450641e+01],\n",
       "       [ 5.83530721e+01,  3.10169261e+01],\n",
       "       [ 1.99093546e+01,  6.64464251e+01],\n",
       "       [ 5.85218583e+01,  3.83438527e+01],\n",
       "       [ 2.09811054e+01,  7.93751463e+01],\n",
       "       [ 7.24488265e+01,  4.18088331e+01]])"
      ]
     },
     "execution_count": 15,
     "metadata": {},
     "output_type": "execute_result"
    }
   ],
   "source": [
    "from sklearn import decomposition\n",
    "\n",
    "pca = decomposition.PCA(n_components=2) # Vairabl, aplicando decompisition, en su funcion PCA donde el mnumero de componentes es igual a 2\n",
    "pca.fit(fields2) # hacemos un fit aplicado a nuestra base nombrada fields2\n",
    "fields2 = pca.transform(fields2) # vamos a llammar a nuestra base para que tome la transformacion\n",
    "fields2"
   ]
  },
  {
   "cell_type": "code",
   "execution_count": 16,
   "id": "c90b1251",
   "metadata": {},
   "outputs": [],
   "source": [
    "wcss2 = [] # Se encargara en calcular la inercia, o la distancia cuadratica de los centerides\n",
    "\n",
    "for i in range(1,11): # Es decir vamos aprobar hasta 11 clusters para observar que es lo que mas nos combiene manejar\n",
    "    kmeans = KMeans(n_clusters = i, init = \"k-means++\", max_iter =300, n_init=10, random_state = 0) # Aplicacion de ARGTM, y damos el primer parametro N_. Y init para el iniciador, y una semilla Random.state para generar los valores de formaleatorizada.\n",
    "    kmeans.fit(fields2) # toma nuestra lista de valores para indetificar a que especifico grupo va a pertenecer cada grupo.\n",
    "\n",
    "    wcss2.append(kmeans.inertia_) # Esto guarda los errores que se cometen en cada grupo y esa distacnia que hya de manera cuadratica de cada centriode."
   ]
  },
  {
   "cell_type": "code",
   "execution_count": 17,
   "id": "f5eb8c9a",
   "metadata": {},
   "outputs": [
    {
     "name": "stdout",
     "output_type": "stream",
     "text": [
      "10\n"
     ]
    }
   ],
   "source": [
    "print(len(wcss2))"
   ]
  },
  {
   "cell_type": "code",
   "execution_count": 18,
   "id": "ec501156",
   "metadata": {},
   "outputs": [
    {
     "name": "stdout",
     "output_type": "stream",
     "text": [
      "10\n"
     ]
    }
   ],
   "source": [
    "print(len(range(1,11)))"
   ]
  },
  {
   "cell_type": "code",
   "execution_count": 19,
   "id": "4b2b7467",
   "metadata": {},
   "outputs": [
    {
     "ename": "TypeError",
     "evalue": "'str' object is not callable",
     "output_type": "error",
     "traceback": [
      "\u001b[1;31m---------------------------------------------------------------------------\u001b[0m",
      "\u001b[1;31mTypeError\u001b[0m                                 Traceback (most recent call last)",
      "Cell \u001b[1;32mIn[19], line 5\u001b[0m\n\u001b[0;32m      3\u001b[0m plt\u001b[38;5;241m.\u001b[39mplot(\u001b[38;5;28mrange\u001b[39m(\u001b[38;5;241m1\u001b[39m,\u001b[38;5;241m11\u001b[39m), wcss2)\n\u001b[0;32m      4\u001b[0m plt\u001b[38;5;241m.\u001b[39mtitle(\u001b[38;5;124m\"\u001b[39m\u001b[38;5;124mK-Means Clustering\u001b[39m\u001b[38;5;124m\"\u001b[39m)\n\u001b[1;32m----> 5\u001b[0m plt\u001b[38;5;241m.\u001b[39mxlabel(\u001b[38;5;124m\"\u001b[39m\u001b[38;5;124mNumero de clusters\u001b[39m\u001b[38;5;124m\"\u001b[39m)\n\u001b[0;32m      6\u001b[0m plt\u001b[38;5;241m.\u001b[39mylabel(\u001b[38;5;124m\"\u001b[39m\u001b[38;5;124mWCSS\u001b[39m\u001b[38;5;124m\"\u001b[39m) \u001b[38;5;66;03m# WEIGHTED CLUSTERS SUM OF SQUATRES\u001b[39;00m\n\u001b[0;32m      7\u001b[0m plt\u001b[38;5;241m.\u001b[39mshow()\n",
      "\u001b[1;31mTypeError\u001b[0m: 'str' object is not callable"
     ]
    },
    {
     "data": {
      "image/png": "[encoded data removed]",
      "text/plain": [
       "<Figure size 640x480 with 1 Axes>"
      ]
     },
     "metadata": {},
     "output_type": "display_data"
    }
   ],
   "source": [
    "# Graficacion del \"Codo de JAMBU\"\n",
    "sns.set()\n",
    "plt.plot(range(1,11), wcss2)\n",
    "plt.title(\"K-Means Clustering\")\n",
    "plt.xlabel(\"Numero de clusters\")\n",
    "plt.ylabel(\"WCSS\") # WEIGHTED CLUSTERS SUM OF SQUATRES\n",
    "plt.show()"
   ]
  },
  {
   "cell_type": "code",
   "execution_count": 20,
   "id": "4df0b361",
   "metadata": {},
   "outputs": [
    {
     "name": "stdout",
     "output_type": "stream",
     "text": [
      "[4 2 4 2 4 2 4 2 4 2 4 2 4 2 4 2 4 2 4 2 4 2 4 2 4 2 4 2 4 2 4 2 4 2 4 2 4\n",
      " 2 4 2 4 2 4 0 4 2 0 0 0 0 0 0 0 0 0 0 0 0 0 0 0 0 0 0 0 0 0 0 0 0 0 0 0 0\n",
      " 0 0 0 0 0 0 0 0 0 0 0 0 0 0 0 0 0 0 0 0 0 0 0 0 0 0 0 0 0 0 0 0 0 0 0 0 0\n",
      " 0 0 0 0 0 0 0 0 0 0 0 0 1 0 1 0 1 3 1 3 1 0 1 3 1 3 1 3 1 3 1 0 1 3 1 3 1\n",
      " 3 1 3 1 3 1 3 1 3 1 3 1 3 1 3 1 3 1 3 1 3 1 3 1 3 1 3 1 3 1 3 1 3 1 3 1 3\n",
      " 1 3 1 3 1 3 1 3 1 3 1 3 1 3 1]\n"
     ]
    }
   ],
   "source": [
    "kmeans = KMeans(n_clusters = 5, init = \"k-means++\", random_state = 42) # llamamos a KMEANS con el numero especifico de 5 clusters\n",
    "# inicializamos con INIT y el algoritmos \"K-Means++\" \n",
    "# Y el numero aleatorio de semilla RANDOM_STATE = 42\n",
    "\n",
    "\n",
    "# PREDICCION de cada grupo que toca o de donde debe de tocar este algoritmo\n",
    "cluster_values = kmeans.fit_predict(fields2)\n",
    "print(cluster_values)"
   ]
  },
  {
   "cell_type": "code",
   "execution_count": 22,
   "id": "17906d15",
   "metadata": {},
   "outputs": [
    {
     "data": {
      "text/plain": [
       "<matplotlib.legend.Legend at 0x2999d150b90>"
      ]
     },
     "execution_count": 22,
     "metadata": {},
     "output_type": "execute_result"
    },
    {
     "data": {
      "image/png": "[encoded data removed]",
      "text/plain": [
       "<Figure size 1000x1000 with 1 Axes>"
      ]
     },
     "metadata": {},
     "output_type": "display_data"
    }
   ],
   "source": [
    "plt.figure(figsize= (10,10)) # Creamos una imagen\n",
    "plt.scatter(fields2[cluster_values==0,0], fields2[cluster_values==0,1], c=\"blue\", label = \"Cluster 1\") # Graficamos todos los cluster del valor 0 y los puntos del primer cluster de color azul\n",
    "plt.scatter(fields2[cluster_values==1,0], fields2[cluster_values==1,1], c=\"orange\", label = \"Cluster 2\") # Graficamos todos los cluster del valor 1 y los puntos del primer cluster de color azul\n",
    "plt.scatter(fields2[cluster_values==2,0], fields2[cluster_values==2,1], c=\"green\", label = \"Cluster 3\") # Graficamos todos los cluster del valor 2 y los puntos del primer cluster de color verde\n",
    "plt.scatter(fields2[cluster_values==3,0], fields2[cluster_values==3,1], c=\"yellow\", label = \"Cluster 4\") # Graficamos todos los cluster del valor 3 y los puntos del primer cluster de color amarillo\n",
    "plt.scatter(fields2[cluster_values==4,0], fields2[cluster_values==4,1], c=\"red\", label = \"Cluster 5\") # Graficamos todos los cluster del valor 4 y los puntos del primer cluster de color red\n",
    "\n",
    "plt.scatter(kmeans.cluster_centers_[:,0],kmeans.cluster_centers_[:,1], c = \"black\", label=\"Centroides\") # Mostramos de negro todos los Centroides de los Clusters\n",
    "plt.title(\"Grupos de clientes\")\n",
    "plt.xlabel = \"Annual income\"\n",
    "plt.ylabel = \"Spending Score\"\n",
    "plt.legend()"
   ]
  },
  {
   "cell_type": "code",
   "execution_count": null,
   "id": "7538dde3",
   "metadata": {},
   "outputs": [],
   "source": []
  }
 ],
 "metadata": {
  "kernelspec": {
   "display_name": "base",
   "language": "python",
   "name": "python3"
  },
  "language_info": {
   "codemirror_mode": {
    "name": "ipython",
    "version": 3
   },
   "file_extension": ".py",
   "mimetype": "text/x-python",
   "name": "python",
   "nbconvert_exporter": "python",
   "pygments_lexer": "ipython3",
   "version": "3.12.4"
  }
 },
 "nbformat": 4,
 "nbformat_minor": 5
}
